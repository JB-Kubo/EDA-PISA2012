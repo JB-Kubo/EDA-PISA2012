{
 "cells": [
  {
   "cell_type": "markdown",
   "metadata": {},
   "source": [
    "# PISA 2012 Project (Communicate Data Findings)\n",
    "\n",
    "## by Jakub Revay\n",
    "\n",
    "## Introduction\n",
    "\n",
    "PISA - Programme for International Student Assessment- has gather an amazing and diverse data from 66 countries around the globe, including OECD and non OECD countries to preform possible studies, like this project were we dive indepth into  the Socio-Economic,Parental School EdUcation and the Wealth stats and their effect on Grades.  \n",
    "The full 2012 PISA dataset to download [PISA2012](https://s3.amazonaws.com/udacity-hosted-downloads/ud507/pisa2012.csv.zip 'Download file' ).\n",
    "additionally,a Dictionary companion was downloaded which describes each column information inthe PISA dataset.\n",
    "The PISA data dictionary, which gives a brief explaination of each feature [PISADict](https://s3.amazonaws.com/udacity-hosted-downloads/ud507/pisadict2012.csv 'Download File').\n",
    "the data given is collected in 2012 from students  born in 1996-1997, and the main PISA study was to check: \n",
    "\n",
    "- how well students have learned the school curriculum\n",
    "- how well prepared they are for life beyond school.\n",
    "\n",
    "thou we are going to study diffrent aspects, its good to know the main purpose of the original Project and its collected data.\n",
    "\n",
    "\n"
   ]
  },
  {
   "cell_type": "markdown",
   "metadata": {},
   "source": [
    "# Conclusions\n",
    "\n",
    "### some key points that were noted along the whole Project \n",
    "\n",
    "in term of wealth and Socio Economic stats, and even withParental school Education and Work stats, we coudn't find a clear factor that had a clear effect on the Grade, also for OECD or Non OECD countries. \n",
    "thus said, OECD countries having a slight advantage in almost every Parameter we observed, which all combined are giving those countries Students an advantage to get better grades or at least an overal grade.\n",
    "best countries that got the top overall Grade were Englisch speaking countries! including USA, Uk, New Zeland and Australia\n",
    "while on the lowest scale came out European countires including Serbia, Sweeden, Poland,and Bulgaria.\n",
    "\n",
    "Although both genders count is almost equal, there is a clear total wealth gap in favor of Males! we can study this case closer, cause we also observed that south American countires have a considerable higher females students rate,and Mexico( counting it as a south American Latin countires) tops the chart with students count.\n",
    "\n",
    "the OECD countries were also on the the upper side on grades and Some Guinesses, 3 to be exact, 2 females and 1 male were from the OECD countries(New Zeland & Uk) and they also came to be from the wealthiest students.\n",
    "\n",
    "when we were observing the parents school education, which didnt play a rule in determining a student grade, and while the Socio-Economic and wealth indexes had a decent correlation around 70%  between each other, only the Socio-Economic index had another impact and correlation, again 70% on the Parents School Education level! \n",
    "OECD students seems to be closer to each other in wealth index terms, were in Non OECD wealth index varies alot for each student per Grade. \n"
   ]
  },
  {
   "cell_type": "markdown",
   "metadata": {},
   "source": [
    "\n",
    "## Key Insights for Presentation\n",
    "\n",
    "basic and fundemental plots and insight including gender and OECD counts, a deeper dive into gap of wealth between genders.\n",
    "after buliding some view, we check some regression plots, between wealt an dsocio Economic status, then Wealth and Grade to see what can be learned from these, a fast look on parents eductaion stats and how its devided. \n",
    "putting all data in a heatmap to see all possible coreelation and start to form a conclosion. \n",
    "lastly a violin plot between Wealth and Grade in OECD and Non OECD countries to see last possible stats. \n"
   ]
  },
  {
   "cell_type": "code",
   "execution_count": null,
   "metadata": {},
   "outputs": [],
   "source": [
    "\n"
   ]
  },
  {
   "cell_type": "code",
   "execution_count": null,
   "metadata": {},
   "outputs": [],
   "source": []
  },
  {
   "cell_type": "code",
   "execution_count": null,
   "metadata": {},
   "outputs": [],
   "source": []
  },
  {
   "cell_type": "code",
   "execution_count": null,
   "metadata": {},
   "outputs": [],
   "source": []
  },
  {
   "cell_type": "code",
   "execution_count": null,
   "metadata": {},
   "outputs": [],
   "source": []
  }
 ],
 "metadata": {
  "kernelspec": {
   "display_name": "Python 3",
   "language": "python",
   "name": "python3"
  },
  "language_info": {
   "codemirror_mode": {
    "name": "ipython",
    "version": 3
   },
   "file_extension": ".py",
   "mimetype": "text/x-python",
   "name": "python",
   "nbconvert_exporter": "python",
   "pygments_lexer": "ipython3",
   "version": "3.6.3"
  }
 },
 "nbformat": 4,
 "nbformat_minor": 2
}
